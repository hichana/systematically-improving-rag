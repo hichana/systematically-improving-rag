{
 "cells": [
  {
   "cell_type": "markdown",
   "metadata": {},
   "source": [
    "# Context\n",
    "\n",
    "<!-- This course includes example code for most topics. The example code relates to building a feature that answers user questions based on previous product reviews for a hardware e-commerce website. -->\n",
    "\n",
    "<!-- This notebook builds the raw product description and reviews data. -->\n",
    "\n",
    "<!-- When you go apply course lessons in your business, you will not have an equivalent of this notebook. Because the data you retrieve from your database to answer questions will be real data from your business. -->\n"
   ]
  },
  {
   "cell_type": "markdown",
   "metadata": {},
   "source": [
    "# Context\n",
    "\n",
    "<!-- This course includes example code for most topics. The example code relates to building a feature that answers user questions based on previous product reviews for a hardware e-commerce website. -->\n",
    "This code relates to building a feature that creates a list of entities and entity metadata for an app.\n",
    "\n",
    "This notebook builds the raw product description and reviews data.\n",
    "\n",
    "When you go apply course lessons in your business, you will not have an equivalent of this notebook. Because the data you retrieve from your database to answer questions will be real data from your business."
   ]
  },
  {
   "cell_type": "code",
   "execution_count": 4,
   "metadata": {},
   "outputs": [
    {
     "name": "stdout",
     "output_type": "stream",
     "text": [
      "Created 3 unique objects\n",
      "First 10 objects: [Document(title='Email Update on Project Status', content='Hello Team,\\n\\nI wanted to provide you with an update on the current status of the project. As of today, we are on track to meet the deadlines set for the upcoming milestones. However, I’ve noticed some delays in the design phase, which could push back our final delivery by one week if not addressed promptly. Let’s aim to discuss this in our next meeting.\\n\\nBest,\\nSarah'), Document(title='Team Chat Summary', content='Hey everyone,\\n\\nJust wanted to recap our discussions from today’s team chat regarding the project. We are still targeting the original deadlines, but it seems the design team is facing some challenges. We need to ensure we have a clear plan to address this in order to avoid any delays.\\n\\nI’ll follow up with everyone tomorrow.\\n\\nCheers,\\nMike'), Document(title='Memo on Project Deadlines', content='TO: All Team Members\\nFROM: Project Management\\nDATE: October 15, 2023\\nSUBJECT: Project Deadlines\\n\\nThis memo serves to confirm that we need to adhere strictly to our project deadlines as outlined in the last meeting. The design phase should be completed by October 22, 2023, to ensure alignment with the final delivery date of November 15, 2023. Any delays reported will be addressed through formal channels.\\n\\nThank you,\\nJason')]\n"
     ]
    }
   ],
   "source": [
    "import asyncio\n",
    "from typing import List, Dict\n",
    "import instructor\n",
    "import json\n",
    "import lancedb\n",
    "from lancedb.embeddings import get_registry\n",
    "from lancedb.pydantic import LanceModel, Vector\n",
    "from openai import AsyncOpenAI, OpenAI\n",
    "from pydantic import BaseModel\n",
    "\n",
    "client = instructor.from_openai(OpenAI())\n",
    "\n",
    "\n",
    "class Document(BaseModel):\n",
    "    title: str\n",
    "    # description: str\n",
    "    content: str\n",
    "\n",
    "\n",
    "reviews_per_product = 10\n",
    "\n",
    "\n",
    "def generate_physical_objects(n_objects: int = 3) -> List[Document]:\n",
    "    # prompt = (\n",
    "    #     f\"Create a list of {n_objects} products someone might buy at a hardware store\"\n",
    "    # )\n",
    "    prompt = (\n",
    "        f\"Create a list of {n_objects} documents someone might be interacting with in the workplace, like email, chat or a memo.\\n\"\n",
    "    )\n",
    "    # prompt += \"Each product title should be repeated 2-3 times. Do not have any with duplicate product descriptions.\\n\"\n",
    "    prompt += \"The content of the documents may share similar entities, themes and some content, but each document title must be unique.\\n\"\n",
    "    # prompt += \"So each product with a given title should have some small distinctions apparent from the description.\\n\"\n",
    "    # prompt += (\n",
    "    #     \"Products can be small (a screw), large (a bandsaw) or anywhere in between.\\n\"\n",
    "    # )\n",
    "    # prompt += \"For each product, write a 2-3 sentence product description that might show up in a hardware retailers website underneath the product\"\n",
    "    # prompt += \"Do not create product reviews that contradict specific facts in other reviews. \"\n",
    "    prompt += \"Contradicting information in one document, like in an email and a memo, is ok only to the extent you would expect that in real data.\"\n",
    "    # prompt += \"Contradicting subjective opinions in other reviews is ok only to the extent you would expect that in real data.\"\n",
    "    prompt += \"Respond only with the list of documents and their content.\"\n",
    "\n",
    "    try:\n",
    "        objects = client.chat.completions.create(\n",
    "            model=\"gpt-4o-mini\",\n",
    "            response_model=List[Document],\n",
    "            messages=[{\"role\": \"user\", \"content\": prompt}],\n",
    "        )\n",
    "        return objects\n",
    "    except Exception as e:\n",
    "        print(f\"Error generating evals: {str(e)}\")\n",
    "        return []\n",
    "\n",
    "\n",
    "objects = generate_physical_objects()\n",
    "print(f\"Created {len(objects)} unique objects\")\n",
    "print(f\"First 10 objects: {objects[:10]}\")"
   ]
  },
  {
   "cell_type": "markdown",
   "metadata": {},
   "source": [
    "We have created the list of objects. Now we will create the product reviews."
   ]
  },
  {
   "cell_type": "code",
   "execution_count": 2,
   "metadata": {},
   "outputs": [],
   "source": [
    "# Patch the AsyncOpenAI client\n",
    "async_client = instructor.from_openai(AsyncOpenAI())\n",
    "\n",
    "\n",
    "class Review(BaseModel):\n",
    "    review: str\n",
    "\n",
    "\n",
    "class AllObjectInfo(BaseModel):\n",
    "    product_title: str\n",
    "    product_description: str\n",
    "    review: str\n",
    "\n",
    "\n",
    "async def make_reviews(\n",
    "    product: Product, n: int, semaphore: asyncio.Semaphore = asyncio.Semaphore(1)\n",
    ") -> List[AllObjectInfo]:\n",
    "    async with semaphore:\n",
    "        prompt = f\"\"\"\n",
    "        Write {n} realistic but detailed/specific product reviews that might show up on a hardware store's website.\n",
    "\n",
    "        The reviews should be about the following product:\n",
    "        Product Title: {product.title}\n",
    "        Product Description: {product.description}\n",
    "        \n",
    "        Add many relevant and concrete facts about the products (this is for synthetic data generation, make up facts about each product as necessary).\n",
    "\n",
    "        To see the format of a possible review, here is a review for a saw:\n",
    "        ```\n",
    "        I've enjoyed using this saw. It is lightweight and the battery lasts longer than other brands.\n",
    "        I've been using it for 3 years now and it has been very durable. It was twice as expensive as the PX-500. But\n",
    "        it is comfortable to hold because of the light weight.\n",
    "        ```\n",
    "\n",
    "        Respond only with the reviews, and nothing else.\n",
    "        \"\"\"\n",
    "\n",
    "        try:\n",
    "            result = await async_client.chat.completions.create(\n",
    "                model=\"gpt-4o\",\n",
    "                response_model=List[Review],\n",
    "                messages=[{\"role\": \"user\", \"content\": prompt}],\n",
    "            )\n",
    "            return [\n",
    "                AllObjectInfo(\n",
    "                    product_title=product.title,\n",
    "                    product_description=product.description,\n",
    "                    review=r.review,\n",
    "                )\n",
    "                for r in result\n",
    "            ]\n",
    "\n",
    "        except Exception as e:\n",
    "            print(f\"Error generating FreeCAD code: {str(e)}\")\n",
    "            return []\n",
    "\n",
    "\n",
    "async def create_synthetic_reviews(\n",
    "    max_concurrency: int = 20, reviews_per_product: int = reviews_per_product\n",
    ") -> List[AllObjectInfo]:\n",
    "    out = []\n",
    "    semaphore = asyncio.Semaphore(max_concurrency)\n",
    "    tasks = [make_reviews(o, reviews_per_product, semaphore) for o in objects]\n",
    "    results = await asyncio.gather(*tasks, return_exceptions=True)\n",
    "    for r in results:\n",
    "        if not isinstance(r, Exception):\n",
    "            out.extend(r)\n",
    "    return out\n",
    "\n",
    "\n",
    "reviews = await create_synthetic_reviews()"
   ]
  },
  {
   "cell_type": "markdown",
   "metadata": {},
   "source": [
    "Store the items to be retrieved in LanceDB"
   ]
  },
  {
   "cell_type": "code",
   "execution_count": 3,
   "metadata": {},
   "outputs": [
    {
     "name": "stderr",
     "output_type": "stream",
     "text": [
      "[2024-08-07T07:20:04Z WARN  lance::dataset] No existing dataset at /Users/matthewchana/Documents/systematically-improving-rag/week1_bootstrap_evals/lancedb/products.lance, it will be created\n",
      "[2024-08-07T07:20:06Z WARN  lance::dataset] No existing dataset at /Users/matthewchana/Documents/systematically-improving-rag/week1_bootstrap_evals/lancedb/reviews.lance, it will be created\n"
     ]
    }
   ],
   "source": [
    "db = lancedb.connect(\"./lancedb\")\n",
    "func = get_registry().get(\"openai\").create(name=\"text-embedding-3-small\")\n",
    "\n",
    "\n",
    "class Products(LanceModel):\n",
    "    id: str = func.SourceField()\n",
    "    title: str = func.SourceField()\n",
    "    description: str = func.SourceField()\n",
    "    vector: Vector(func.ndims()) = func.VectorField()\n",
    "\n",
    "\n",
    "products_table = db.create_table(\"products\", schema=Products, mode=\"overwrite\")\n",
    "products_data = [\n",
    "    {\"id\": f\"{i}\", \"title\": obj.title, \"description\": obj.description}\n",
    "    for i, obj in enumerate(objects)\n",
    "]\n",
    "products_table.add(products_data)\n",
    "products_table.create_fts_index(\"description\", replace=True)\n",
    "product_id_map = {\n",
    "    p[\"title\"]: p[\"id\"] for p in products_table.to_pandas().to_dict(\"records\")\n",
    "}\n",
    "\n",
    "\n",
    "class Reviews(LanceModel):\n",
    "    id: str = func.SourceField()\n",
    "    product_title: str = func.SourceField()\n",
    "    product_description: str = func.SourceField()\n",
    "    review: str = func.SourceField()\n",
    "    vector: Vector(func.ndims()) = func.VectorField()\n",
    "\n",
    "\n",
    "reviews_table = db.create_table(\"reviews\", schema=Reviews, mode=\"overwrite\")\n",
    "\n",
    "reviews_with_product_id = [\n",
    "    {\n",
    "        \"id\": f\"{i}\",\n",
    "        \"product_title\": review.product_title,\n",
    "        \"product_description\": review.product_description,\n",
    "        \"review\": review.review,\n",
    "    }\n",
    "    for i, review in enumerate(reviews)\n",
    "]\n",
    "reviews_table.add(reviews_with_product_id)\n",
    "reviews_table.create_fts_index(\"review\", replace=True)"
   ]
  },
  {
   "cell_type": "markdown",
   "metadata": {},
   "source": [
    "In case you want to see the data quickly in a text editor, we also store the data in JSON."
   ]
  },
  {
   "cell_type": "code",
   "execution_count": 4,
   "metadata": {},
   "outputs": [],
   "source": [
    "with open(\"./reviews.json\", \"w\") as f:\n",
    "    json.dump([i.dict() for i in reviews], f)"
   ]
  }
 ],
 "metadata": {
  "kernelspec": {
   "display_name": ".venv",
   "language": "python",
   "name": "python3"
  },
  "language_info": {
   "codemirror_mode": {
    "name": "ipython",
    "version": 3
   },
   "file_extension": ".py",
   "mimetype": "text/x-python",
   "name": "python",
   "nbconvert_exporter": "python",
   "pygments_lexer": "ipython3",
   "version": "3.12.4"
  }
 },
 "nbformat": 4,
 "nbformat_minor": 2
}
