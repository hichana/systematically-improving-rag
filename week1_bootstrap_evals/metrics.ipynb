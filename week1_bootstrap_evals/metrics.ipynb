{
 "cells": [
  {
   "cell_type": "markdown",
   "metadata": {},
   "source": [
    "# Context\n",
    "\n",
    "In `make_synthetic_questions.ipynb`, we generated synthetic questions to bootstrap evaluation of the retrieval system in our hardware store's Q&A system.\n",
    "\n",
    "This notebook shows the first step in calculating precision and recall with different retrieval parameters. We will run more advanced experiments in future notebooks after we have these baseline scores.\n",
    "\n",
    "## Data\n",
    "\n",
    "Here is a brief review of the data."
   ]
  },
  {
   "cell_type": "code",
   "execution_count": 3,
   "metadata": {},
   "outputs": [
    {
     "data": {
      "text/html": [
       "<div>\n",
       "<style scoped>\n",
       "    .dataframe tbody tr th:only-of-type {\n",
       "        vertical-align: middle;\n",
       "    }\n",
       "\n",
       "    .dataframe tbody tr th {\n",
       "        vertical-align: top;\n",
       "    }\n",
       "\n",
       "    .dataframe thead th {\n",
       "        text-align: right;\n",
       "    }\n",
       "</style>\n",
       "<table border=\"1\" class=\"dataframe\">\n",
       "  <thead>\n",
       "    <tr style=\"text-align: right;\">\n",
       "      <th></th>\n",
       "      <th>id</th>\n",
       "      <th>product_title</th>\n",
       "      <th>product_description</th>\n",
       "      <th>review</th>\n",
       "      <th>vector</th>\n",
       "    </tr>\n",
       "  </thead>\n",
       "  <tbody>\n",
       "    <tr>\n",
       "      <th>0</th>\n",
       "      <td>0</td>\n",
       "      <td>High-Speed Drill Bit Set</td>\n",
       "      <td>This high-speed drill bit set includes 15 professional-grade bits that are perfect for drilling through wood, metal, and plastic. Made from premium steel, t...</td>\n",
       "      <td>I recently bought the High-Speed Drill Bit Set and am thoroughly impressed. These bits cut through wood, metal, and plastic like a hot knife through butter....</td>\n",
       "      <td>[0.012096934, -0.016582856, -0.024458809, -0.017401762, 0.021676935, -0.022688525, -0.0054975115, 0.08998337, 0.034249555, -0.03386419, 0.07567659, -0.00561...</td>\n",
       "    </tr>\n",
       "    <tr>\n",
       "      <th>1</th>\n",
       "      <td>1</td>\n",
       "      <td>High-Speed Drill Bit Set</td>\n",
       "      <td>This high-speed drill bit set includes 15 professional-grade bits that are perfect for drilling through wood, metal, and plastic. Made from premium steel, t...</td>\n",
       "      <td>This drill bit set is a game-changer! The bits are sharp and perfect for my woodworking projects. I was able to drill precise holes in oak and pine without ...</td>\n",
       "      <td>[0.004564493, -0.008680302, 0.00031745803, -0.026921017, -0.00273093, -0.025931612, 0.01688891, 0.02678296, 0.010406008, -0.023377566, 0.08955265, -0.020812...</td>\n",
       "    </tr>\n",
       "    <tr>\n",
       "      <th>2</th>\n",
       "      <td>2</td>\n",
       "      <td>High-Speed Drill Bit Set</td>\n",
       "      <td>This high-speed drill bit set includes 15 professional-grade bits that are perfect for drilling through wood, metal, and plastic. Made from premium steel, t...</td>\n",
       "      <td>I've used many drill bit sets over the years, but this High-Speed Drill Bit Set stands out. The 15 professional-grade bits have handled everything from dril...</td>\n",
       "      <td>[0.0156312, -0.0011927274, -0.004294711, -0.04323878, 0.0030402269, -0.0394292, -0.026048033, 0.052905604, 0.03709583, -0.022083685, 0.08314418, -0.01344069...</td>\n",
       "    </tr>\n",
       "    <tr>\n",
       "      <th>3</th>\n",
       "      <td>3</td>\n",
       "      <td>High-Speed Drill Bit Set</td>\n",
       "      <td>This high-speed drill bit set includes 15 professional-grade bits that are perfect for drilling through wood, metal, and plastic. Made from premium steel, t...</td>\n",
       "      <td>As a professional contractor, I need reliable tools, and this drill bit set does not disappoint. The set includes every size I need, and they all perform ex...</td>\n",
       "      <td>[0.003315595, 0.006962443, 0.009330287, -0.0075881425, -0.012305427, -0.026549296, -0.03496557, 0.023874737, -0.010250433, 0.0022972994, 0.060901437, -0.029...</td>\n",
       "    </tr>\n",
       "    <tr>\n",
       "      <th>4</th>\n",
       "      <td>4</td>\n",
       "      <td>High-Speed Drill Bit Set</td>\n",
       "      <td>This high-speed drill bit set includes 15 professional-grade bits that are perfect for drilling through wood, metal, and plastic. Made from premium steel, t...</td>\n",
       "      <td>My home renovation project has been a breeze thanks to this High-Speed Drill Bit Set. I’ve used it on wood, plastic, and even some metal fixtures, and it pe...</td>\n",
       "      <td>[0.014810753, 0.013838572, -0.0072553484, -0.031877924, 0.014870764, -0.041311678, -0.01651507, 0.058954958, 0.0143666705, -0.026452918, 0.054202076, -0.002...</td>\n",
       "    </tr>\n",
       "  </tbody>\n",
       "</table>\n",
       "</div>"
      ],
      "text/plain": [
       "  id             product_title  \\\n",
       "0  0  High-Speed Drill Bit Set   \n",
       "1  1  High-Speed Drill Bit Set   \n",
       "2  2  High-Speed Drill Bit Set   \n",
       "3  3  High-Speed Drill Bit Set   \n",
       "4  4  High-Speed Drill Bit Set   \n",
       "\n",
       "                                                                                                                                               product_description  \\\n",
       "0  This high-speed drill bit set includes 15 professional-grade bits that are perfect for drilling through wood, metal, and plastic. Made from premium steel, t...   \n",
       "1  This high-speed drill bit set includes 15 professional-grade bits that are perfect for drilling through wood, metal, and plastic. Made from premium steel, t...   \n",
       "2  This high-speed drill bit set includes 15 professional-grade bits that are perfect for drilling through wood, metal, and plastic. Made from premium steel, t...   \n",
       "3  This high-speed drill bit set includes 15 professional-grade bits that are perfect for drilling through wood, metal, and plastic. Made from premium steel, t...   \n",
       "4  This high-speed drill bit set includes 15 professional-grade bits that are perfect for drilling through wood, metal, and plastic. Made from premium steel, t...   \n",
       "\n",
       "                                                                                                                                                            review  \\\n",
       "0  I recently bought the High-Speed Drill Bit Set and am thoroughly impressed. These bits cut through wood, metal, and plastic like a hot knife through butter....   \n",
       "1  This drill bit set is a game-changer! The bits are sharp and perfect for my woodworking projects. I was able to drill precise holes in oak and pine without ...   \n",
       "2  I've used many drill bit sets over the years, but this High-Speed Drill Bit Set stands out. The 15 professional-grade bits have handled everything from dril...   \n",
       "3  As a professional contractor, I need reliable tools, and this drill bit set does not disappoint. The set includes every size I need, and they all perform ex...   \n",
       "4  My home renovation project has been a breeze thanks to this High-Speed Drill Bit Set. I’ve used it on wood, plastic, and even some metal fixtures, and it pe...   \n",
       "\n",
       "                                                                                                                                                            vector  \n",
       "0  [0.012096934, -0.016582856, -0.024458809, -0.017401762, 0.021676935, -0.022688525, -0.0054975115, 0.08998337, 0.034249555, -0.03386419, 0.07567659, -0.00561...  \n",
       "1  [0.004564493, -0.008680302, 0.00031745803, -0.026921017, -0.00273093, -0.025931612, 0.01688891, 0.02678296, 0.010406008, -0.023377566, 0.08955265, -0.020812...  \n",
       "2  [0.0156312, -0.0011927274, -0.004294711, -0.04323878, 0.0030402269, -0.0394292, -0.026048033, 0.052905604, 0.03709583, -0.022083685, 0.08314418, -0.01344069...  \n",
       "3  [0.003315595, 0.006962443, 0.009330287, -0.0075881425, -0.012305427, -0.026549296, -0.03496557, 0.023874737, -0.010250433, 0.0022972994, 0.060901437, -0.029...  \n",
       "4  [0.014810753, 0.013838572, -0.0072553484, -0.031877924, 0.014870764, -0.041311678, -0.01651507, 0.058954958, 0.0143666705, -0.026452918, 0.054202076, -0.002...  "
      ]
     },
     "execution_count": 3,
     "metadata": {},
     "output_type": "execute_result"
    }
   ],
   "source": [
    "import json\n",
    "import lancedb\n",
    "import os\n",
    "import pandas as pd\n",
    "from typing import List, Dict\n",
    "from concurrent.futures import ThreadPoolExecutor\n",
    "\n",
    "pd.set_option(\"display.max_colwidth\", 160)\n",
    "\n",
    "db = lancedb.connect(\"./lancedb\")\n",
    "reviews_table = db.open_table(\"reviews\")\n",
    "reviews_table.to_pandas().head()"
   ]
  },
  {
   "cell_type": "code",
   "execution_count": 4,
   "metadata": {},
   "outputs": [
    {
     "data": {
      "text/plain": [
       "[{'question': 'How well do these drill bits perform on different materials?',\n",
       "  'answer': 'These bits cut through wood, metal, and plastic like a hot knife through butter.',\n",
       "  'chunk_id': '0'},\n",
       " {'question': 'What is the quality of the construction of the drill bits?',\n",
       "  'answer': 'The drill bits are made from premium steel, offering incredible durability and showing no wear after multiple uses.',\n",
       "  'chunk_id': '0'},\n",
       " {'question': 'How good are the bits for drilling through different materials?',\n",
       "  'answer': 'The bits work great for drilling precise holes in both wood (like oak and pine) and plastic without getting dull.',\n",
       "  'chunk_id': '1'},\n",
       " {'question': 'What’s the deal with the carrying case in this drill bit set?',\n",
       "  'answer': 'The carrying case is well-organized, making it easy to find the right bit quickly for storage and transport.',\n",
       "  'chunk_id': '1'},\n",
       " {'question': 'How many bits are in the High-Speed Drill Bit Set and what are they made of?',\n",
       "  'answer': 'The High-Speed Drill Bit Set includes 15 professional-grade bits made from premium steel.',\n",
       "  'chunk_id': '2'}]"
      ]
     },
     "execution_count": 4,
     "metadata": {},
     "output_type": "execute_result"
    }
   ],
   "source": [
    "with open(\"synthetic_eval_dataset.json\", \"r\") as f:\n",
    "    synthetic_questions = json.load(f)\n",
    "synthetic_questions[:5]"
   ]
  },
  {
   "cell_type": "markdown",
   "metadata": {},
   "source": [
    "## Set Up Evaluation\n",
    "\n",
    "Load the evaluation questions into a structured format."
   ]
  },
  {
   "cell_type": "code",
   "execution_count": 5,
   "metadata": {},
   "outputs": [],
   "source": [
    "from pydantic import BaseModel\n",
    "\n",
    "\n",
    "class EvalQuestion(BaseModel):\n",
    "    question: str\n",
    "    answer: str\n",
    "    chunk_id: str\n",
    "\n",
    "\n",
    "eval_questions = [EvalQuestion(**question) for question in synthetic_questions]"
   ]
  },
  {
   "cell_type": "markdown",
   "metadata": {},
   "source": [
    "Build a simple search function"
   ]
  },
  {
   "cell_type": "code",
   "execution_count": 6,
   "metadata": {},
   "outputs": [],
   "source": [
    "def run_simple_request(q: EvalQuestion, n_return_vals=5):\n",
    "    results = (\n",
    "        reviews_table.search(q.question).select([\"id\"]).limit(n_return_vals).to_list()\n",
    "    )\n",
    "    return [str(q.chunk_id) == str(r[\"id\"]) for r in results]"
   ]
  },
  {
   "cell_type": "markdown",
   "metadata": {},
   "source": [
    "Now do the benchmarking. For simplicity, we just compare retrieval sizes with a simple semantic search in this cell."
   ]
  },
  {
   "cell_type": "code",
   "execution_count": 7,
   "metadata": {},
   "outputs": [
    {
     "data": {
      "text/html": [
       "<div>\n",
       "<style scoped>\n",
       "    .dataframe tbody tr th:only-of-type {\n",
       "        vertical-align: middle;\n",
       "    }\n",
       "\n",
       "    .dataframe tbody tr th {\n",
       "        vertical-align: top;\n",
       "    }\n",
       "\n",
       "    .dataframe thead th {\n",
       "        text-align: right;\n",
       "    }\n",
       "</style>\n",
       "<table border=\"1\" class=\"dataframe\">\n",
       "  <thead>\n",
       "    <tr style=\"text-align: right;\">\n",
       "      <th></th>\n",
       "      <th>precision</th>\n",
       "      <th>recall</th>\n",
       "      <th>n_retrieved</th>\n",
       "    </tr>\n",
       "  </thead>\n",
       "  <tbody>\n",
       "    <tr>\n",
       "      <th>0</th>\n",
       "      <td>0.088333</td>\n",
       "      <td>0.441667</td>\n",
       "      <td>5</td>\n",
       "    </tr>\n",
       "    <tr>\n",
       "      <th>1</th>\n",
       "      <td>0.065000</td>\n",
       "      <td>0.650000</td>\n",
       "      <td>10</td>\n",
       "    </tr>\n",
       "    <tr>\n",
       "      <th>2</th>\n",
       "      <td>0.042500</td>\n",
       "      <td>0.850000</td>\n",
       "      <td>20</td>\n",
       "    </tr>\n",
       "  </tbody>\n",
       "</table>\n",
       "</div>"
      ],
      "text/plain": [
       "   precision    recall  n_retrieved\n",
       "0   0.088333  0.441667            5\n",
       "1   0.065000  0.650000           10\n",
       "2   0.042500  0.850000           20"
      ]
     },
     "execution_count": 7,
     "metadata": {},
     "output_type": "execute_result"
    }
   ],
   "source": [
    "def score(hits):\n",
    "    # This implementation assumes\n",
    "    n_retrieval_requests = len(hits)\n",
    "    total_retrievals = sum(len(l) for l in hits)\n",
    "    true_positives = sum(sum(sublist) for sublist in hits)\n",
    "    precision = true_positives / total_retrievals if total_retrievals > 0 else 0\n",
    "    recall = true_positives / n_retrieval_requests if n_retrieval_requests > 0 else 0\n",
    "    return {\"precision\": precision, \"recall\": recall}\n",
    "\n",
    "\n",
    "def score_simple_search(n_to_retrieve: List[int]) -> Dict[str, float]:\n",
    "    # parallelize to speed this up 5-10X\n",
    "    with ThreadPoolExecutor() as executor:\n",
    "        hits = list(\n",
    "            executor.map(lambda q: run_simple_request(q, n_to_retrieve), eval_questions)\n",
    "        )\n",
    "    return score(hits)\n",
    "\n",
    "\n",
    "k_to_retrieve = [5, 10, 20]\n",
    "scores = pd.DataFrame([score_simple_search(n) for n in k_to_retrieve])\n",
    "scores[\"n_retrieved\"] = k_to_retrieve\n",
    "scores"
   ]
  },
  {
   "cell_type": "markdown",
   "metadata": {},
   "source": [
    "If you have Cohere set up, you can see uf a reranker improves results (we'll talk more about rerankers in the coming weeks)."
   ]
  },
  {
   "cell_type": "code",
   "execution_count": 6,
   "metadata": {},
   "outputs": [
    {
     "name": "stdout",
     "output_type": "stream",
     "text": [
      "   precision    recall  n_retrieved\n",
      "0   0.125198  0.625991            5\n",
      "1   0.081806  0.818062           10\n",
      "2   0.046960  0.939207           20\n"
     ]
    }
   ],
   "source": [
    "try:\n",
    "    import cohere\n",
    "    from diskcache import Cache\n",
    "    cohere_api_key = os.environ[\"COHERE_API_KEY\"]\n",
    "\n",
    "    # Use diskcache to reduce re-running in case of error (or addition of new data)\n",
    "    cache = Cache(\"./cohere_cache\")\n",
    "    \n",
    "    def run_reranked_request(q: EvalQuestion, n_return_vals=5, n_to_rerank=40) -> List[bool]:\n",
    "        # First, get more results than we need\n",
    "        initial_results = reviews_table.search(q.question) \\\n",
    "            .select([\"id\", \"review\"]) \\\n",
    "            .limit(n_to_rerank) \\\n",
    "            .to_list()\n",
    "        \n",
    "        # Prepare texts for reranking\n",
    "        texts = [r[\"review\"] for r in initial_results]\n",
    "        \n",
    "        cache_key = f\"{q.question}_{n_return_vals}\".replace(\"?\", \"\")\n",
    "        # Try to get the result from cache\n",
    "        cached_result = cache.get(cache_key)\n",
    "        if cached_result is not None:\n",
    "            return cached_result\n",
    "        \n",
    "        # Rerank using Cohere\n",
    "        co = cohere.Client(cohere_api_key)\n",
    "        reranked = co.rerank(\n",
    "            query=q.question,\n",
    "            documents=texts,\n",
    "            top_n=n_return_vals\n",
    "        )\n",
    "        \n",
    "        # Map reranked results back to original IDs\n",
    "        reranked_ids = [initial_results[r.index][\"id\"] for r in reranked.results]\n",
    "        result = [str(q.chunk_id) == str(r) for r in reranked_ids]\n",
    "        cache.set(cache_key, result)\n",
    "        return result\n",
    "\n",
    "    def score_reranked_search(n_to_retrieve: List[int], n_to_rerank: int = 40) -> Dict[str, float]:\n",
    "        with ThreadPoolExecutor() as executor:\n",
    "            hits = list(executor.map(\n",
    "                lambda q: run_reranked_request(q, n_to_retrieve, n_to_rerank), \n",
    "                eval_questions\n",
    "            ))\n",
    "        return score(hits)\n",
    "\n",
    "    k_to_retrieve = [5, 10, 20]\n",
    "    reranked_scores = pd.DataFrame([score_reranked_search(n) for n in k_to_retrieve])\n",
    "    reranked_scores[\"n_retrieved\"] = k_to_retrieve\n",
    "    print(reranked_scores)\n",
    "except Exception as e:\n",
    "    print(f\"Could not run reranker.\\n{e}\")\n",
    "    print(\"Ensure COHERE_API_KEY env is set... and cohere library diskcache are installed.\")\n",
    "    print(\"Connection reset by peer is likely rate limiting from Cohere\")"
   ]
  },
  {
   "cell_type": "code",
   "execution_count": null,
   "metadata": {},
   "outputs": [],
   "source": []
  }
 ],
 "metadata": {
  "kernelspec": {
   "display_name": ".venv",
   "language": "python",
   "name": "python3"
  },
  "language_info": {
   "codemirror_mode": {
    "name": "ipython",
    "version": 3
   },
   "file_extension": ".py",
   "mimetype": "text/x-python",
   "name": "python",
   "nbconvert_exporter": "python",
   "pygments_lexer": "ipython3",
   "version": "3.12.4"
  }
 },
 "nbformat": 4,
 "nbformat_minor": 2
}
